{
 "cells": [
  {
   "cell_type": "code",
   "execution_count": 1,
   "id": "197db585-158a-4319-a0ab-b847ac53902b",
   "metadata": {},
   "outputs": [
    {
     "name": "stdin",
     "output_type": "stream",
     "text": [
      "enter a num 77\n"
     ]
    },
    {
     "name": "stdout",
     "output_type": "stream",
     "text": [
      "The output is True\n"
     ]
    }
   ],
   "source": [
    "#check if num in range of 0 to 100\n",
    "def test(num):\n",
    "    for i in range(0,101):\n",
    "        #if num matches with value of range\n",
    "        if num == i:\n",
    "            return True\n",
    "\n",
    "    #if loop complete without matching    \n",
    "    return False\n",
    "\n",
    " #input and check the test function       \n",
    "num = int(input(\"enter a num\"))        \n",
    "output = test(num)\n",
    "print(f\"The output is {output}\")      "
   ]
  },
  {
   "cell_type": "code",
   "execution_count": 2,
   "id": "26d8123d-a3d2-41dc-adf5-6c6cdd410be6",
   "metadata": {},
   "outputs": [
    {
     "name": "stdin",
     "output_type": "stream",
     "text": [
      "Enter a string:  Rainbow\n"
     ]
    },
    {
     "name": "stdout",
     "output_type": "stream",
     "text": [
      "Uppercase is 1, Lowercase is 6\n"
     ]
    }
   ],
   "source": [
    "def letter(s):\n",
    "    # Count uppercase letters with isupper()\n",
    "    uppercase_count = len([char for char in s if char.isupper()])\n",
    "    # Count lowercase letters with islower()\n",
    "    lowercase_count = len([char for char in s if char.islower()])\n",
    "    return uppercase_count, lowercase_count\n",
    "\n",
    "# ask user to enter string\n",
    "user = input(\"Enter a string: \")  \n",
    "uppercase, lowercase = letter(user)  \n",
    "print(f\"Uppercase is {uppercase}, Lowercase is {lowercase}\")"
   ]
  },
  {
   "cell_type": "code",
   "execution_count": 3,
   "id": "fa9a762f-db91-4fce-a774-a4c5a4ed2ae6",
   "metadata": {},
   "outputs": [
    {
     "name": "stdin",
     "output_type": "stream",
     "text": [
      "please enter your name:  AisHWaRyA\n"
     ]
    },
    {
     "name": "stdout",
     "output_type": "stream",
     "text": [
      "Hello, what is your name?Aishwarya\n",
      "Hello,Aishwarya. Good to meet you!\n"
     ]
    }
   ],
   "source": [
    "name = input(\"please enter your name: \")\n",
    "#check if the name is blank\n",
    "if name == \"\":\n",
    "   print(\"Hello, Stranger!\") \n",
    "else:\n",
    "   name = name.capitalize()\n",
    "   # greet the user with their name\n",
    "   print(f\"Hello, what is your name?{name}\")\n",
    "   print(f\"Hello,{name}. Good to meet you!\")\n"
   ]
  },
  {
   "cell_type": "code",
   "execution_count": 4,
   "id": "7c693b1a-a968-48c8-bf3e-4adf11a0d766",
   "metadata": {},
   "outputs": [
    {
     "name": "stdin",
     "output_type": "stream",
     "text": [
      "Enter a string:  College\n"
     ]
    },
    {
     "name": "stdout",
     "output_type": "stream",
     "text": [
      "Result after removing last character: 'Colleg'\n"
     ]
    }
   ],
   "source": [
    "def Removelast_char(c):\n",
    "    # If the string has more than one character then remove the last character\n",
    "    if len(c) > 1:\n",
    "        return c[:-1]  # Return string excluding last character\n",
    "    else:\n",
    "        return c # If string has one or fewer characters, return unchanged\n",
    "\n",
    "# Test the function\n",
    "user = input(\"Enter a string: \")\n",
    "output = Removelast_char(user)\n",
    "print(f\"Result after removing last character: '{output}'\")\n"
   ]
  },
  {
   "cell_type": "code",
   "execution_count": 5,
   "id": "5aeca41b-a9ca-4114-9e57-2579e112918d",
   "metadata": {},
   "outputs": [
    {
     "name": "stdin",
     "output_type": "stream",
     "text": [
      "Enter your temperature:  43\n",
      "Please choose 'F' for Fahrenheit and 'C' for Celsius:  c\n"
     ]
    },
    {
     "name": "stdout",
     "output_type": "stream",
     "text": [
      "The temperature in Celsius is: 6.111111111111111C\n"
     ]
    }
   ],
   "source": [
    "# Function to convert from Celsius to Fahrenheit\n",
    "def convert_fahrenheit(temp):\n",
    "    return temp * 9 / 5 + 32\n",
    "\n",
    "# Function to convert from Fahrenheit to Celsius\n",
    "def convert_celsius(temp):\n",
    "    return (temp - 32) * 5 / 9\n",
    "\n",
    "# ask user to input temp and choose 'F' or 'C'\n",
    "temp = int(input(\"Enter your temperature: \"))\n",
    "convert = input(\"Please choose 'F' for Fahrenheit and 'C' for Celsius: \").lower()\n",
    "\n",
    "# Check if user wants to convert into Fahrenheit\n",
    "if convert == \"f\":\n",
    "    result = convert_fahrenheit(temp)  \n",
    "    print(f\"The temperature in Fahrenheit is: {result}F\")  \n",
    "    \n",
    "# Check if the user wants to convert into Celsius\n",
    "elif convert == \"c\":\n",
    "    result = convert_celsius(temp)  \n",
    "    print(f\"The temperature in Celsius is: {result}C\")  \n",
    "else:\n",
    "    # If the user choose invalid \n",
    "    print(\"Invalid input! Please choose 'F' or 'C'.\")\n"
   ]
  },
  {
   "cell_type": "code",
   "execution_count": 6,
   "id": "20e50e61-cd88-4b54-b4fa-9422e1695824",
   "metadata": {},
   "outputs": [
    {
     "name": "stdin",
     "output_type": "stream",
     "text": [
      "Enter your temperature(example:37c)):  45c\n"
     ]
    },
    {
     "name": "stdout",
     "output_type": "stream",
     "text": [
      "113.0F\n"
     ]
    }
   ],
   "source": [
    "#ask user to input temp with c at the end\n",
    "celsius_temp = input(\"Enter your temperature(example:37c)): \").lower()\n",
    "\n",
    "#check if c is in celsius_temp,convert it to fahrenheit\n",
    "if 'c' in celsius_temp[-1]:\n",
    "        celsius = float(celsius_temp[:-1])\n",
    "        fahrenheit = (celsius * 9/5) + 32\n",
    "        print(f\"{fahrenheit}F\")\n",
    "\n",
    "#if user didnot follow the format print invalid        \n",
    "else:\n",
    "    print(\"Invalid!!!! Please add 'C'at the end of temperature.\")\n",
    "\n",
    "                        "
   ]
  },
  {
   "cell_type": "code",
   "execution_count": 7,
   "id": "12646aed-bc7b-48f8-88a2-c3e60c356f8d",
   "metadata": {},
   "outputs": [
    {
     "name": "stdin",
     "output_type": "stream",
     "text": [
      "Enter your temperature (example: 37C) or type 'exit' to quit:  exit\n"
     ]
    },
    {
     "name": "stdout",
     "output_type": "stream",
     "text": [
      "Exiting the program.\n",
      "Invalid!! Try again.\n"
     ]
    }
   ],
   "source": [
    "# Initializing an empty list to store Celsius temperatures\n",
    "temperature = []\n",
    "i = 0\n",
    "\n",
    "# Loop runs to read 6 temperatures\n",
    "while i < 6:\n",
    "    # Ask user to input temp with 'C' at the end\n",
    "    celsius_temp = input(\"Enter your temperature (example: 37C) or type 'exit' to quit: \").lower()\n",
    "\n",
    "    # Check if the user wants to exit\n",
    "    if celsius_temp == 'exit':\n",
    "        print(\"Exiting the program.\")\n",
    "        break  # Exit the loop\n",
    "\n",
    "    # Check if 'C' is in the last character and convert to Fahrenheit\n",
    "    elif 'c' in celsius_temp[-1]:\n",
    "        celsius = float(celsius_temp[:-1])\n",
    "        fahrenheit = (celsius * 9 / 5) + 32\n",
    "        print(f\"{fahrenheit}F\")\n",
    "        # Add the Celsius temperature to the list\n",
    "        temperature.append(celsius)\n",
    "        i += 1\n",
    "    else:\n",
    "        print(\"Invalid!!!! Please add 'C' at the end of temperature.\")\n",
    "\n",
    "# If the list contains elements, perform calculations\n",
    "if len(temperature) > 0:\n",
    "    maximum = max(temperature)\n",
    "    minimum = min(temperature)\n",
    "    mean = sum(temperature) / len(temperature)\n",
    "\n",
    "    print(f\"Maximum Temperature: {maximum}C\")\n",
    "    print(f\"Minimum Temperature: {minimum}C\")\n",
    "    print(f\"Mean Temperature: {mean:.2f}C\")\n",
    "else:\n",
    "    print(\"Invalid!! Try again.\")\n"
   ]
  },
  {
   "cell_type": "code",
   "execution_count": 8,
   "id": "044b794e-1002-4aa4-a19f-6e1367a2854c",
   "metadata": {},
   "outputs": [
    {
     "name": "stdin",
     "output_type": "stream",
     "text": [
      "Enter your temperature (example: 37c) or press Enter to exit:  37c\n",
      "Enter your temperature (example: 37c) or press Enter to exit:  42c\n",
      "Enter your temperature (example: 37c) or press Enter to exit:  exit\n"
     ]
    },
    {
     "name": "stdout",
     "output_type": "stream",
     "text": [
      "Invalid!!!! Please add 'C'at the end of temperature.\n"
     ]
    },
    {
     "name": "stdin",
     "output_type": "stream",
     "text": [
      "Enter your temperature (example: 37c) or press Enter to exit:  \n"
     ]
    },
    {
     "name": "stdout",
     "output_type": "stream",
     "text": [
      "Maximum Temperature: 42.0C\n",
      "Minimum Temperature: 37.0C\n",
      "Mean Temperature: 39.50C\n"
     ]
    }
   ],
   "source": [
    "# Initialize an empty list to store valid Celsius temperatures\n",
    "temperature = []\n",
    "\n",
    "# loop breaks when user presses Enter \n",
    "while True:\n",
    "    # ask user to enter a temperature\n",
    "    celsius_temp = input(\"Enter your temperature (example: 37c) or press Enter to exit: \").lower()\n",
    "\n",
    "    # Break the loop if input is empty\n",
    "    if celsius_temp == \"\":\n",
    "        break\n",
    "\n",
    "    # Check if the input ends with 'c'\n",
    "    if 'c' in celsius_temp[-1]:\n",
    "            celsius = float(celsius_temp[:-1])\n",
    "            temperature.append(celsius)  # Add the valid Celsius temperature to the list\n",
    "    else:\n",
    "        print(\"Invalid!!!! Please add 'C'at the end of temperature.\")   \n",
    "\n",
    "# Perform calculations if the list contains valid temperatures\n",
    "if len(temperature) > 0:\n",
    "    # Calculate maximum, minimum, and mean\n",
    "    maximum = max(temperature)\n",
    "    minimum = min(temperature)\n",
    "    mean = sum(temperature) / len(temperature)\n",
    "    \n",
    "    # Display the results\n",
    "    print(f\"Maximum Temperature: {maximum}C\")\n",
    "    print(f\"Minimum Temperature: {minimum}C\")\n",
    "    print(f\"Mean Temperature: {mean:.2f}C\")\n",
    "else:\n",
    "    # Notify the user if no valid temperatures were entered\n",
    "    print(\"Invalid temperature!!!! Please try again.\")\n"
   ]
  },
  {
   "cell_type": "code",
   "execution_count": null,
   "id": "2bd45c14-42f0-4fe6-99c8-5a4c64835043",
   "metadata": {},
   "outputs": [],
   "source": []
  }
 ],
 "metadata": {
  "kernelspec": {
   "display_name": "Python 3 (ipykernel)",
   "language": "python",
   "name": "python3"
  },
  "language_info": {
   "codemirror_mode": {
    "name": "ipython",
    "version": 3
   },
   "file_extension": ".py",
   "mimetype": "text/x-python",
   "name": "python",
   "nbconvert_exporter": "python",
   "pygments_lexer": "ipython3",
   "version": "3.12.1"
  }
 },
 "nbformat": 4,
 "nbformat_minor": 5
}
