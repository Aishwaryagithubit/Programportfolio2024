{
 "cells": [
  {
   "cell_type": "code",
   "execution_count": 1,
   "id": "31504f9f-e731-47d9-9fd5-9f26325394c0",
   "metadata": {},
   "outputs": [
    {
     "name": "stdin",
     "output_type": "stream",
     "text": [
      "Enter the positive integer number:  7\n"
     ]
    },
    {
     "name": "stdout",
     "output_type": "stream",
     "text": [
      "Binary format of 7 is 111\n"
     ]
    }
   ],
   "source": [
    "def convert_binary(num):\n",
    "    # Check if the input number is positive\n",
    "    if num <= 0:\n",
    "       return \"Invalid number!! enter a positive integer.\"\n",
    "    else:\n",
    "    # Convert the number to binary     \n",
    "        return bin(num)[2:]\n",
    "\n",
    "# Taking user input and call the function\n",
    "num = int(input(\"Enter the positive integer number: \"))\n",
    "output = convert_binary(num)\n",
    "print(f\"Binary format of {num} is {output}\")"
   ]
  },
  {
   "cell_type": "code",
   "execution_count": 2,
   "id": "631b7fac-93fd-4a18-9b4b-0110e8f820ec",
   "metadata": {},
   "outputs": [
    {
     "name": "stdin",
     "output_type": "stream",
     "text": [
      "Enter a number:  56\n"
     ]
    },
    {
     "name": "stdout",
     "output_type": "stream",
     "text": [
      "The factors of 56 are: [1, 2, 4, 7, 8, 14, 28, 56]\n"
     ]
    }
   ],
   "source": [
    "def factorsof_integer(number):\n",
    "   # Using filter and lambda to return list of factors of number\n",
    "   return list(filter(lambda n: number % n== 0, range(1, number + 1)))\n",
    "\n",
    "# ask user input and call the function\n",
    "number = int(input(\"Enter a number: \"))\n",
    "factor_num = factorsof_integer(number)\n",
    "print(f\"The factors of {number} are: {factor_num}\")\n",
    "              "
   ]
  },
  {
   "cell_type": "code",
   "execution_count": 3,
   "id": "42f0c315-a9be-4b73-8b9a-9afd0f2cf494",
   "metadata": {},
   "outputs": [
    {
     "name": "stdin",
     "output_type": "stream",
     "text": [
      "Enter any number:  13\n"
     ]
    },
    {
     "name": "stdout",
     "output_type": "stream",
     "text": [
      "13 is a prime number\n"
     ]
    }
   ],
   "source": [
    "def check_primenumber(num):\n",
    "  # check if Number less than or equal to 1 are not prime  \n",
    "    if num <= 1:  \n",
    "        print(f\"{num} is not a prime number\")\n",
    "        # exit the function\n",
    "        return\n",
    "        \n",
    "    for i in range(2, num):\n",
    "        # If num is divisible by i, it's not a prime number\n",
    "        if num % i == 0:\n",
    "            print(f\"{num} is not a prime number\")\n",
    "            return\n",
    "            \n",
    "    # number is prime if no divisors found\n",
    "    print(f\"{num} is a prime number\")\n",
    "\n",
    "# ask user input and call the function\n",
    "num = int(input(\"Enter any number: \"))\n",
    "check_primenumber(num)\n"
   ]
  },
  {
   "cell_type": "code",
   "execution_count": 4,
   "id": "301c8881-c620-4f95-b335-fe92815c08c8",
   "metadata": {},
   "outputs": [
    {
     "name": "stdin",
     "output_type": "stream",
     "text": [
      "Enter your message to encrypt:  Merry Merry christmas\n"
     ]
    },
    {
     "name": "stdout",
     "output_type": "stream",
     "text": [
      "The encrypted message is: samtsirhcyrreMyrreM\n"
     ]
    }
   ],
   "source": [
    "def encrypt(m):\n",
    "   # check if spaces in the message  \n",
    "    if \" \" in m:\n",
    "     # remove spaces and reverse the string     \n",
    "        return m.replace(\" \", \"\")[::-1] \n",
    "    else:\n",
    "     # If  there is no spaces,just reverse the string   \n",
    "        return m[::-1] \n",
    "\n",
    "# ask user input and call the function\n",
    "message = input(\"Enter your message to encrypt: \")\n",
    "print(f\"The encrypted message is: {encrypt(message)}\")\n"
   ]
  },
  {
   "cell_type": "code",
   "execution_count": 5,
   "id": "e88b5f26-debb-4c28-9bdf-4b986baa2a6d",
   "metadata": {},
   "outputs": [
    {
     "name": "stdin",
     "output_type": "stream",
     "text": [
      "Enter your message to encrypt:  what a lovely day!!\n"
     ]
    },
    {
     "name": "stdout",
     "output_type": "stream",
     "text": [
      "Encrypted message: whayt fa aloqvezlyk dvaya!!o\n",
      "Interval used: 2\n"
     ]
    }
   ],
   "source": [
    "import random\n",
    "import string\n",
    "def encrypt(message):\n",
    "    interval = random.randint(2, 20)\n",
    "    encrypted_message = ''.join(\n",
    "        [message[i] + random.choice(string.ascii_lowercase) if i % interval == 0 and i != 0 else message[i] for i in range(len(message))]\n",
    "    )\n",
    "    return encrypted_message, interval\n",
    "\n",
    "# Test the function\n",
    "message = input(\"Enter your message to encrypt: \")\n",
    "encrypted_message, interval = encrypt(message)\n",
    "print(f\"Encrypted message: {encrypted_message}\")\n",
    "print(f\"Interval used: {interval}\")"
   ]
  },
  {
   "cell_type": "code",
   "execution_count": 7,
   "id": "8b244da8-db49-48b2-bd96-e7d05cda653b",
   "metadata": {},
   "outputs": [
    {
     "name": "stdin",
     "output_type": "stream",
     "text": [
      "Enter interval used during encryption:  7\n",
      "Enter your encrypted message to decrypt:  wish you good health.\n"
     ]
    },
    {
     "name": "stdout",
     "output_type": "stream",
     "text": [
      "The decrypted message is: wishyouoodhealh.\n"
     ]
    }
   ],
   "source": [
    "def decrypt_message(message, interval):\n",
    "    # Remove spaces from encrypted message\n",
    "    without_spaces = message.replace(\" \", \"\")\n",
    "    # Decrypt message by removing characters at interval\n",
    "    decrypted_message = ''.join([without_spaces[i] for i in range(len(without_spaces)) if (i + 1) % (interval + 1) != 0])\n",
    "    return decrypted_message\n",
    "\n",
    "# Input for interval and encrypted message\n",
    "interval = int(input(\"Enter interval used during encryption: \")) \n",
    "encrypted_message = input(\"Enter your encrypted message to decrypt: \")\n",
    "\n",
    "# Decrypt the message\n",
    "decrypted_message = decrypt_message(encrypted_message, interval)\n",
    "\n",
    "# Output the decrypted message\n",
    "print(f\"The decrypted message is: {decrypted_message}\")"
   ]
  },
  {
   "cell_type": "code",
   "execution_count": null,
   "id": "ce111fe9-74d4-4c55-bcd0-19c9397f01f1",
   "metadata": {},
   "outputs": [],
   "source": []
  }
 ],
 "metadata": {
  "kernelspec": {
   "display_name": "Python 3 (ipykernel)",
   "language": "python",
   "name": "python3"
  },
  "language_info": {
   "codemirror_mode": {
    "name": "ipython",
    "version": 3
   },
   "file_extension": ".py",
   "mimetype": "text/x-python",
   "name": "python",
   "nbconvert_exporter": "python",
   "pygments_lexer": "ipython3",
   "version": "3.12.1"
  }
 },
 "nbformat": 4,
 "nbformat_minor": 5
}
