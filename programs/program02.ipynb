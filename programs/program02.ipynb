{
 "cells": [
  {
   "cell_type": "code",
   "execution_count": 1,
   "id": "386ec27c-411e-45e5-aeb1-457336e1f575",
   "metadata": {},
   "outputs": [
    {
     "name": "stdin",
     "output_type": "stream",
     "text": [
      "please enter your name Aishwarya\n"
     ]
    },
    {
     "name": "stdout",
     "output_type": "stream",
     "text": [
      "Hello, what is your name?Aishwarya\n",
      "Hello,Aishwarya. Good to meet you!\n"
     ]
    }
   ],
   "source": [
    "#ask user to enter the name\n",
    "name = input(\"please enter your name\")\n",
    "#print greeting asking for the user's name\n",
    "print(f\"Hello, what is your name?{name}\")\n",
    "print(f\"Hello,{name}. Good to meet you!\")"
   ]
  },
  {
   "cell_type": "code",
   "execution_count": 3,
   "id": "c3e694ce-9e69-4352-881f-17581ae8311c",
   "metadata": {},
   "outputs": [
    {
     "name": "stdin",
     "output_type": "stream",
     "text": [
      "enter a temperature in celsius:  37\n"
     ]
    },
    {
     "name": "stdout",
     "output_type": "stream",
     "text": [
      "37.0C is equivalent to 98.6F.\n"
     ]
    }
   ],
   "source": [
    "#ask user to enter the temperature in celsius\n",
    "temperature = float(input(\"enter a temperature in celsius: \"))\n",
    "#convert celsius into Fahrenheit\n",
    "result = (temperature *9/5) + 32\n",
    "print(f\"{temperature}C is equivalent to {result}F.\")"
   ]
  },
  {
   "cell_type": "code",
   "execution_count": 4,
   "id": "e4a897a5-5b90-4d97-951f-d8907e836802",
   "metadata": {},
   "outputs": [
    {
     "name": "stdin",
     "output_type": "stream",
     "text": [
      "How many students? 50\n",
      "Required group size? 4\n"
     ]
    },
    {
     "name": "stdout",
     "output_type": "stream",
     "text": [
      "There will be 12 groups with 2 students left over.\n"
     ]
    }
   ],
   "source": [
    "#ask user to enter number of students and required group size\n",
    "students = int(input(\"How many students?\"))\n",
    "size = int(input(\"Required group size?\"))\n",
    "#Calculate the number of full groups and the leftover students\n",
    "create_group = students//size\n",
    "left_over = students % size \n",
    "print(f\"There will be {create_group} groups with {left_over} students left over.\")"
   ]
  },
  {
   "cell_type": "code",
   "execution_count": 5,
   "id": "744838e4-9ab3-47a0-80f0-47539a17735a",
   "metadata": {},
   "outputs": [
    {
     "name": "stdin",
     "output_type": "stream",
     "text": [
      "How many sweets? 43\n",
      "how many pupils attend today? 28\n"
     ]
    },
    {
     "name": "stdout",
     "output_type": "stream",
     "text": [
      "Each pupil will get 1 sweets.\n",
      "There will be 15 sweets left over.\n"
     ]
    }
   ],
   "source": [
    "#ask user to input the number of sweets and the number of pupils\n",
    "sweets = int(input(\"How many sweets?\"))\n",
    "pupils = int(input(\"how many pupils attend today?\"))\n",
    "\n",
    "# Calculate the number of sweets for each pupil and the number of leftovers\n",
    "sweets_calculation = sweets//pupils\n",
    "left_over_sweets = sweets % pupils\n",
    "print(f\"Each pupil will get {sweets_calculation} sweets.\")\n",
    "print(f\"There will be {left_over_sweets} sweets left over.\")"
   ]
  },
  {
   "cell_type": "code",
   "execution_count": null,
   "id": "81bc4860-6d1b-4132-b1dd-6866affbd0f0",
   "metadata": {},
   "outputs": [],
   "source": []
  }
 ],
 "metadata": {
  "kernelspec": {
   "display_name": "Python 3 (ipykernel)",
   "language": "python",
   "name": "python3"
  },
  "language_info": {
   "codemirror_mode": {
    "name": "ipython",
    "version": 3
   },
   "file_extension": ".py",
   "mimetype": "text/x-python",
   "name": "python",
   "nbconvert_exporter": "python",
   "pygments_lexer": "ipython3",
   "version": "3.12.1"
  }
 },
 "nbformat": 4,
 "nbformat_minor": 5
}
