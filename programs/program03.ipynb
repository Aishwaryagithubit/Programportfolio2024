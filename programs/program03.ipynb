{
 "cells": [
  {
   "cell_type": "code",
   "execution_count": 1,
   "id": "744b6083-706e-4f6e-8ac8-9f6992f680d2",
   "metadata": {},
   "outputs": [
    {
     "name": "stdin",
     "output_type": "stream",
     "text": [
      "please enter your name:  Aishwarya\n"
     ]
    },
    {
     "name": "stdout",
     "output_type": "stream",
     "text": [
      "Hello, what is your name?Aishwarya\n",
      "Hello,Aishwarya. Good to meet you!\n"
     ]
    }
   ],
   "source": [
    "#ask user to enter a name\n",
    "name = input(\"please enter your name: \")\n",
    "#check if the name is blank\n",
    "if name == \"\":\n",
    "   print(\"Hello, Stranger!\")\n",
    "else:\n",
    "   # greet the user with their name\n",
    "   print(f\"Hello, what is your name?{name}\")\n",
    "   print(f\"Hello,{name}. Good to meet you!\")"
   ]
  },
  {
   "cell_type": "code",
   "execution_count": 2,
   "id": "d1ed354c-6499-41e5-8990-da66e8f894a6",
   "metadata": {},
   "outputs": [
    {
     "name": "stdin",
     "output_type": "stream",
     "text": [
      "Enter your password:  Py77#@3\n",
      "Enter your new password:  Py77#@3\n"
     ]
    },
    {
     "name": "stdout",
     "output_type": "stream",
     "text": [
      "Password Set\n"
     ]
    }
   ],
   "source": [
    "#ask user to enter the password and new password\n",
    "password = input(\"Enter your password: \")\n",
    "new_password = input(\"Enter your new password: \") \n",
    "\n",
    "#check if password matches with new password\n",
    "if password == new_password:\n",
    "    print(\"Password Set\")\n",
    "else:\n",
    "    print(\"an error occured!!\")    "
   ]
  },
  {
   "cell_type": "code",
   "execution_count": 5,
   "id": "8cb751ed-bdf6-4511-9509-b3750fb3a2b9",
   "metadata": {},
   "outputs": [
    {
     "name": "stdin",
     "output_type": "stream",
     "text": [
      "Enter your password:   Py77#@3\n",
      "Enter your new password:  opy77#@3\n"
     ]
    },
    {
     "name": "stdout",
     "output_type": "stream",
     "text": [
      "an error occured!!\n"
     ]
    }
   ],
   "source": [
    "#ask user to enter password\n",
    "password = input(\"Enter your password: \")\n",
    "\n",
    "#check if password is between 8 and 12 characters or not \n",
    "if len(password) < 8 or len(password) > 12:\n",
    "   print(\"Error occured!!,Password must be between 8 and 12 characters\")\n",
    "else:\n",
    "   # ask user to enter new_password if above condition didnot fullfilled\n",
    "   new_password = input(\"Enter your new password: \")\n",
    "\n",
    "   if len(new_password) < 8 or len(new_password) > 12:\n",
    "        print(\"Error occured!!, new password must be between 8 and 12 characters.\")\n",
    "   else: \n",
    "\n",
    "  #check if password matches with new password and strip() to avoid whitespace\n",
    "     if password.strip() == new_password.strip():\n",
    "       print(\"Password Set\")\n",
    "     else:\n",
    "       print(\"an error occured!!\")   "
   ]
  },
  {
   "cell_type": "code",
   "execution_count": 6,
   "id": "a2f621e6-f62e-4f67-a8c9-fc8196a4f192",
   "metadata": {},
   "outputs": [
    {
     "name": "stdin",
     "output_type": "stream",
     "text": [
      "Enter your password:  hello\n"
     ]
    },
    {
     "name": "stdout",
     "output_type": "stream",
     "text": [
      "Error occured!! Password must be between 8 and 12 characters\n"
     ]
    }
   ],
   "source": [
    "BAD_PASSWORDS = ['password', 'letmein', 'sesame', 'hello', 'justinbieber']\n",
    "\n",
    "password = input(\"Enter your password: \")\n",
    "#check if password is between 8 and 12 characters or not \n",
    "\n",
    "if len(password) < 8 or len(password) > 12:\n",
    "   print(\"Error occured!! Password must be between 8 and 12 characters\")\n",
    "\n",
    " # check if the password is in the list\n",
    "elif password in BAD_PASSWORDS:\n",
    "    print(\"Error occurred!Please choose another password.\")   \n",
    "\n",
    "else:\n",
    "   # ask user to enter new_password if above condition didnot fullfilled\n",
    "   new_password = input(\"Enter your new password: \")\n",
    "\n",
    "   if len(new_password) < 8 or len(new_password) > 12:\n",
    "        print(\"Error occur, new password must be between 8 and 12 characters.\")\n",
    "\n",
    "   # check if the new_password is in the list     \n",
    "   elif new_password in BAD_PASSWORDS:\n",
    "        print(\"Error occurred! Please choose another password.\")\n",
    "        \n",
    "   else: \n",
    "  #check if password matches with new password and strip() to avoid whitespace\n",
    "     if password.strip() == new_password.strip():\n",
    "       print(\"Password Set\")\n",
    "     else:\n",
    "       print(\"an error occured!!\")   "
   ]
  },
  {
   "cell_type": "code",
   "execution_count": 7,
   "id": "2fecd483-2e0d-4784-a5b6-7a27b4afc63f",
   "metadata": {},
   "outputs": [
    {
     "name": "stdin",
     "output_type": "stream",
     "text": [
      "Enter your password:  hello\n"
     ]
    },
    {
     "name": "stdout",
     "output_type": "stream",
     "text": [
      "Error occurred! Password must be between 8 and 12 characters.\n"
     ]
    },
    {
     "name": "stdin",
     "output_type": "stream",
     "text": [
      "Enter your password:  ram\n"
     ]
    },
    {
     "name": "stdout",
     "output_type": "stream",
     "text": [
      "Error occurred! Password must be between 8 and 12 characters.\n"
     ]
    },
    {
     "name": "stdin",
     "output_type": "stream",
     "text": [
      "Enter your password:  pp@3435$e\n",
      "Enter your new password:  pp@3435$e\n"
     ]
    },
    {
     "name": "stdout",
     "output_type": "stream",
     "text": [
      "Password Set\n"
     ]
    }
   ],
   "source": [
    "BAD_PASSWORDS = ['password', 'letmein', 'sesame', 'hello', 'justinbieber']\n",
    "\n",
    "# Loop until the user provides a valid password\n",
    "while True:\n",
    "    password = input(\"Enter your password: \")\n",
    "\n",
    "    # Check if password is between 8 and 12 characters or not\n",
    "    if len(password) < 8 or len(password) > 12:\n",
    "        print(\"Error occurred! Password must be between 8 and 12 characters.\")\n",
    "\n",
    "    # Check if the password is in the list of bad passwords\n",
    "    elif password in BAD_PASSWORDS:\n",
    "        print(\"Error occurred! Please choose another password.\")\n",
    "\n",
    "    else:\n",
    "        # Ask user to enter new password if above conditions are not fulfilled\n",
    "        new_password = input(\"Enter your new password: \")\n",
    "\n",
    "        # Check if the new password is between 8 and 12 characters\n",
    "        if len(new_password) < 8 or len(new_password) > 12:\n",
    "            print(\"Error occurred! New password must be between 8 and 12 characters.\")\n",
    "\n",
    "        # Check if the new password is in the list of bad passwords\n",
    "        elif new_password in BAD_PASSWORDS:\n",
    "            print(\"Error occurred! Please choose another password.\")\n",
    "            \n",
    "        else:\n",
    "            # Check if password matches with new password and strip() to avoid whitespace\n",
    "            if password.strip() == new_password.strip():\n",
    "                print(\"Password Set\")\n",
    "                break  # Exit the loop once the password is successfully set\n",
    "            else:\n",
    "                print(\"An error occurred! Passwords do not match.\")"
   ]
  },
  {
   "cell_type": "code",
   "execution_count": 8,
   "id": "62aa3d2c-b344-4829-8ef3-38f14360fa26",
   "metadata": {},
   "outputs": [
    {
     "name": "stdout",
     "output_type": "stream",
     "text": [
      "0*7=0\n",
      "1*7=7\n",
      "2*7=14\n",
      "3*7=21\n",
      "4*7=28\n",
      "5*7=35\n",
      "6*7=42\n",
      "7*7=49\n",
      "8*7=56\n",
      "9*7=63\n",
      "10*7=70\n",
      "11*7=77\n",
      "12*7=84\n"
     ]
    }
   ],
   "source": [
    "number = 7\n",
    "#loop runs from 0 to 12 for printing multiplication table\n",
    "for i in range(0,13):\n",
    "    print(f\"{i}*{number}={number*i}\")\n",
    "    "
   ]
  },
  {
   "cell_type": "code",
   "execution_count": 9,
   "id": "3093f3ad-4c77-4b84-a48e-3c0ad991afaf",
   "metadata": {},
   "outputs": [
    {
     "name": "stdin",
     "output_type": "stream",
     "text": [
      "enter your number:  6\n"
     ]
    },
    {
     "name": "stdout",
     "output_type": "stream",
     "text": [
      "6*0=0\n",
      "6*1=6\n",
      "6*2=12\n",
      "6*3=18\n",
      "6*4=24\n",
      "6*5=30\n",
      "6*6=36\n",
      "6*7=42\n",
      "6*8=48\n",
      "6*9=54\n",
      "6*10=60\n",
      "6*11=66\n",
      "6*12=72\n"
     ]
    }
   ],
   "source": [
    "#ask user to enter a number\n",
    "user = int(input(\"enter your number: \"))\n",
    "\n",
    "if 0 <= user and user <= 12:\n",
    "#loop runs from 0 to 12\n",
    "  for i in range(0,13):\n",
    "      print(f\"{user}*{i}={user*i}\")\n",
    "else:\n",
    "   print(\"invalid!!, please choose between 0 to 12\")      \n",
    "      \n",
    "      "
   ]
  },
  {
   "cell_type": "code",
   "execution_count": 11,
   "id": "110982bf-f9e9-4dbd-a7de-f6d05733fc98",
   "metadata": {},
   "outputs": [
    {
     "name": "stdin",
     "output_type": "stream",
     "text": [
      "enter your number:  -3\n"
     ]
    },
    {
     "name": "stdout",
     "output_type": "stream",
     "text": [
      "-3*12=-36\n",
      "-3*11=-33\n",
      "-3*10=-30\n",
      "-3*9=-27\n",
      "-3*8=-24\n",
      "-3*7=-21\n",
      "-3*6=-18\n",
      "-3*5=-15\n",
      "-3*4=-12\n",
      "-3*3=-9\n",
      "-3*2=-6\n",
      "-3*1=-3\n",
      "-3*0=0\n"
     ]
    }
   ],
   "source": [
    "#ask user to enter a number\n",
    "user_num = int(input(\"enter your number: \"))\n",
    "\n",
    "#loop runs from 0 to 12 if number is positive\n",
    "if user_num>0:\n",
    "    for i in range(0,13):\n",
    "    #print multiplication result \n",
    "       print(f\"{user_num}*{i}={user_num*i}\")\n",
    "      \n",
    "#loop runs from 12 to 0 if number is negative\n",
    "elif user_num<0:\n",
    "    for i in range(12,-1,-1):\n",
    "    #print multiplication result \n",
    "       print(f\"{user_num}*{i}={user_num*i}\")\n",
    "else:\n",
    "       print(\"invalid number!!\")       \n",
    "      "
   ]
  },
  {
   "cell_type": "code",
   "execution_count": null,
   "id": "b9590a79-6665-43b1-945c-fc51a80c2015",
   "metadata": {},
   "outputs": [],
   "source": []
  }
 ],
 "metadata": {
  "kernelspec": {
   "display_name": "Python 3 (ipykernel)",
   "language": "python",
   "name": "python3"
  },
  "language_info": {
   "codemirror_mode": {
    "name": "ipython",
    "version": 3
   },
   "file_extension": ".py",
   "mimetype": "text/x-python",
   "name": "python",
   "nbconvert_exporter": "python",
   "pygments_lexer": "ipython3",
   "version": "3.12.1"
  }
 },
 "nbformat": 4,
 "nbformat_minor": 5
}
