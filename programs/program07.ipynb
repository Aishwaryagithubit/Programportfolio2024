{
 "cells": [
  {
   "cell_type": "code",
   "execution_count": 1,
   "id": "5057b181-9f8c-4912-8e8a-5beb8461f921",
   "metadata": {},
   "outputs": [
    {
     "name": "stdout",
     "output_type": "stream",
     "text": [
      "Enter a string:  princess\n"
     ]
    },
    {
     "name": "stdout",
     "output_type": "stream",
     "text": [
      "the output is ['c', 'e', 'i', 'n', 'p', 'r', 's']\n"
     ]
    }
   ],
   "source": [
    "#creating a function that returns sorted list of unique letters\n",
    "def test_string(s):\n",
    "    # Creating a list of letters from string 's' that is alphabet\n",
    "    letters = [letter for letter in s if letter.isalpha()]\n",
    "     # Return a sorted list of unique letters\n",
    "    return sorted(set(letters))\n",
    "\n",
    "# Taking input from the user, convert it to lowercase and remove extra space\n",
    "user = input(\"Enter a string: \").lower().strip()\n",
    "# Calling the function and store results\n",
    "output = test_string(user)\n",
    "print(f\"the output is {output}\")"
   ]
  },
  {
   "cell_type": "code",
   "execution_count": 3,
   "id": "6fab4e26-3a9d-4c9a-891d-c51c3058206d",
   "metadata": {},
   "outputs": [
    {
     "name": "stdout",
     "output_type": "stream",
     "text": [
      "Enter the first word:  mad\n",
      "Enter the second word:  crazy\n"
     ]
    },
    {
     "name": "stdout",
     "output_type": "stream",
     "text": [
      "Letters in at least one of the two words: ['a', 'c', 'd', 'm', 'r', 'y', 'z']\n",
      "Letters in both words: ['a']\n",
      "Letters in either but not both: ['c', 'd', 'm', 'r', 'y', 'z']\n"
     ]
    }
   ],
   "source": [
    "def atleastone_letter(str1, str2):\n",
    "    # Return sorted list of letters that appear in at least one of the two words\n",
    "    return sorted(set(str1).union(set(str2)))\n",
    "\n",
    "def both_letter(str1, str2):\n",
    "    # Return sorted list of letters that appear in both words\n",
    "    return sorted(set(str1).intersection(set(str2)))\n",
    "\n",
    "def eitherbutnot_both_letter(str1, str2):\n",
    "    # Return sorted list of letters that appear in either word but not both\n",
    "    return sorted(set(str1).symmetric_difference(set(str2)))\n",
    "\n",
    "#ask user to enter word1 and word2\n",
    "word1 = input(\"Enter the first word: \").lower()  \n",
    "word2 = input(\"Enter the second word: \").lower() \n",
    "\n",
    "# display results \n",
    "print(f\"Letters in at least one of the two words: {atleastone_letter(word1, word2)}\")\n",
    "print(f\"Letters in both words: {both_letter(word1, word2)}\")\n",
    "print(f\"Letters in either but not both: {eitherbutnot_both_letter(word1, word2)}\")\n"
   ]
  },
  {
   "cell_type": "code",
   "execution_count": 4,
   "id": "1234e9b4-7908-406b-9af9-646d604d9565",
   "metadata": {},
   "outputs": [
    {
     "name": "stdout",
     "output_type": "stream",
     "text": [
      "enter how many times 6\n",
      "Enter the name of country (or enter to exit):  Nepal\n",
      "Please enter the capital of Nepal is:  ktm\n"
     ]
    },
    {
     "name": "stdout",
     "output_type": "stream",
     "text": [
      "The capital of Nepal is ktm.\n"
     ]
    },
    {
     "name": "stdout",
     "output_type": "stream",
     "text": [
      "Enter the name of country (or enter to exit):  UK\n",
      "Please enter the capital of Uk is:  London\n"
     ]
    },
    {
     "name": "stdout",
     "output_type": "stream",
     "text": [
      "The capital of Uk is London.\n"
     ]
    },
    {
     "name": "stdout",
     "output_type": "stream",
     "text": [
      "Enter the name of country (or enter to exit):  India\n",
      "Please enter the capital of India is:  new delhi\n"
     ]
    },
    {
     "name": "stdout",
     "output_type": "stream",
     "text": [
      "The capital of India is new delhi.\n"
     ]
    },
    {
     "name": "stdout",
     "output_type": "stream",
     "text": [
      "Enter the name of country (or enter to exit):  china\n",
      "Please enter the capital of China is:   Beijing\n"
     ]
    },
    {
     "name": "stdout",
     "output_type": "stream",
     "text": [
      "The capital of China is Beijing.\n"
     ]
    },
    {
     "name": "stdout",
     "output_type": "stream",
     "text": [
      "Enter the name of country (or enter to exit):  \n"
     ]
    },
    {
     "name": "stdout",
     "output_type": "stream",
     "text": [
      "Exit the program!!!\n"
     ]
    }
   ],
   "source": [
    "# Initialising a dictionary to store countries and their capitals\n",
    "capitals = {}\n",
    "# the number of interactions the program will allow\n",
    "number = int(input(\"enter how many times\"))\n",
    "\n",
    "for i in range(number):\n",
    "    # ask user to enter name of a country\n",
    "    country = input(\"Enter the name of country (or enter to exit): \").strip().lower()\n",
    "\n",
    "    #If the user press Enter without typing anything,the program will exit\n",
    "    if country == '':\n",
    "        print(\"Exit the program!!!\")\n",
    "        break \n",
    "    \n",
    "    # Check if the country is already in the dictionary \n",
    "    elif country in capitals:\n",
    "        print(f\"The capital of {country.title()} is {capitals[country]}.\")\n",
    "    else:\n",
    "        # If the capital is not known, ask the user to provide it\n",
    "        capital = input(f\"Please enter the capital of {country.title()} is: \").strip()\n",
    "        # Store country and its capital in dictionary\n",
    "        capitals[country] = capital \n",
    "        print(f\"The capital of {country.title()} is {capital}.\")"
   ]
  },
  {
   "cell_type": "code",
   "execution_count": 5,
   "id": "9a1810b4-fa8f-437b-b62e-31ef5b472848",
   "metadata": {},
   "outputs": [
    {
     "name": "stdout",
     "output_type": "stream",
     "text": [
      "Enter the message:  Have a great day.\n"
     ]
    },
    {
     "name": "stdout",
     "output_type": "stream",
     "text": [
      "A: 4\n",
      "D: 1\n",
      "E: 2\n",
      "G: 1\n",
      "H: 1\n",
      "R: 1\n",
      "T: 1\n",
      "V: 1\n",
      "Y: 1\n"
     ]
    }
   ],
   "source": [
    "def letters_frequency(message):\n",
    "    # extract only the alphabetic characters from the message\n",
    "    letters = [char for char in message if char.isalpha()]\n",
    "    # get unique letters and sort them \n",
    "    count_letters = sorted(set(letters))\n",
    "\n",
    "    for letter in count_letters:\n",
    "         # Count occurrences of each letter\n",
    "        count = letters.count(letter)\n",
    "        # Print the letter in uppercase and its count\n",
    "        print(f\"{letter.upper()}: {count}\")\n",
    "\n",
    "#ask user to enter message\n",
    "message = input(\"Enter the message: \").lower()\n",
    "letters_frequency(message)\n"
   ]
  },
  {
   "cell_type": "code",
   "execution_count": null,
   "id": "39ada326-079c-401b-aa93-7300364e7bb6",
   "metadata": {},
   "outputs": [],
   "source": []
  }
 ],
 "metadata": {
  "kernelspec": {
   "display_name": "Python 3 (ipykernel)",
   "language": "python",
   "name": "python3"
  },
  "language_info": {
   "codemirror_mode": {
    "name": "ipython",
    "version": 3
   },
   "file_extension": ".py",
   "mimetype": "text/x-python",
   "name": "python",
   "nbconvert_exporter": "python",
   "pygments_lexer": "ipython3",
   "version": "3.12.1"
  }
 },
 "nbformat": 4,
 "nbformat_minor": 5
}
